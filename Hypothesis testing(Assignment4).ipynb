{
 "cells": [
  {
   "cell_type": "code",
   "execution_count": 1,
   "id": "233154a7-070d-4b9e-89c5-fc5d011bbac3",
   "metadata": {},
   "outputs": [],
   "source": [
    "import numpy as np\n",
    "from scipy.stats import chi2"
   ]
  },
  {
   "cell_type": "code",
   "execution_count": 3,
   "id": "4c851da4-94f2-40ad-923e-52a56b198bce",
   "metadata": {},
   "outputs": [],
   "source": [
    "# Observed frequencies\n",
    "observed = np.array([\n",
    "    [50, 70],  # Very Satisfied\n",
    "    [80, 100], # Satisfied\n",
    "    [60, 90],  # Neutral\n",
    "    [30, 50],  # Unsatisfied\n",
    "    [20, 50]   # Very Unsatisfied\n",
    "])"
   ]
  },
  {
   "cell_type": "code",
   "execution_count": 5,
   "id": "8a2b1b3a-177e-47a3-a398-69ed002ce902",
   "metadata": {},
   "outputs": [],
   "source": [
    "# Totals\n",
    "row_totals = observed.sum(axis=1)\n",
    "col_totals = observed.sum(axis=0)\n",
    "grand_total = observed.sum()"
   ]
  },
  {
   "cell_type": "code",
   "execution_count": 7,
   "id": "85ad31fa-f07d-4622-b16a-3d716ad730d3",
   "metadata": {},
   "outputs": [],
   "source": [
    "# Expected frequencies\n",
    "expected = np.outer(row_totals, col_totals) / grand_total"
   ]
  },
  {
   "cell_type": "code",
   "execution_count": 9,
   "id": "ea5df8a0-e347-4aa1-bf2f-954630518ea7",
   "metadata": {},
   "outputs": [],
   "source": [
    "# Chi-Square statistic\n",
    "chi_square_statistic = np.sum((observed - expected) ** 2 / expected)"
   ]
  },
  {
   "cell_type": "code",
   "execution_count": 11,
   "id": "02f5d132-4a7b-46f9-b8c0-d7cd190bcd6d",
   "metadata": {},
   "outputs": [],
   "source": [
    "# Degrees of freedom and critical value\n",
    "df = (observed.shape[0] - 1) * (observed.shape[1] - 1)\n",
    "critical_value = chi2.ppf(0.95, df)"
   ]
  },
  {
   "cell_type": "code",
   "execution_count": 15,
   "id": "1b43dae7-ed96-443a-9f02-66e447927308",
   "metadata": {},
   "outputs": [],
   "source": [
    "# Decision\n",
    "reject_null = chi_square_statistic > critical_value"
   ]
  },
  {
   "cell_type": "code",
   "execution_count": 17,
   "id": "e1d32ce8-f77e-4ef1-98a5-f1cc8f02c352",
   "metadata": {},
   "outputs": [
    {
     "name": "stdout",
     "output_type": "stream",
     "text": [
      "Chi-Square Statistic: 5.638227513227513\n",
      "Critical Value: 9.487729036781154\n",
      "Reject Null Hypothesis: False\n"
     ]
    }
   ],
   "source": [
    "print(f\"Chi-Square Statistic: {chi_square_statistic}\")\n",
    "print(f\"Critical Value: {critical_value}\")\n",
    "print(f\"Reject Null Hypothesis: {reject_null}\")"
   ]
  },
  {
   "cell_type": "code",
   "execution_count": 19,
   "id": "4091adb7-10ef-4bee-991f-ab15bc9ef01f",
   "metadata": {},
   "outputs": [],
   "source": [
    "import math\n",
    "from scipy.stats import norm"
   ]
  },
  {
   "cell_type": "code",
   "execution_count": 21,
   "id": "18ac28ed-c405-4460-b625-20af55e62b33",
   "metadata": {},
   "outputs": [],
   "source": [
    "# Given values\n",
    "sample_mean = 3050  # x̄\n",
    "theoretical_mean = 4000  # μ\n",
    "std_dev = 125  # σ\n",
    "sample_size = 25  # n"
   ]
  },
  {
   "cell_type": "code",
   "execution_count": 23,
   "id": "e5bf139e-0fb5-4f2a-bfb5-d0dacdd870c0",
   "metadata": {},
   "outputs": [],
   "source": [
    "# Calculate the test statistic (z)\n",
    "z_statistic = (sample_mean - theoretical_mean) / (std_dev / math.sqrt(sample_size))"
   ]
  },
  {
   "cell_type": "code",
   "execution_count": 25,
   "id": "21e0c3e9-4f5b-408b-abae-22debaf9ae5b",
   "metadata": {},
   "outputs": [],
   "source": [
    "# Critical value for one-tailed test (alpha = 0.05)\n",
    "critical_value = norm.ppf(0.05)  # Left-tailed critical value"
   ]
  },
  {
   "cell_type": "code",
   "execution_count": 27,
   "id": "8fddc70a-285e-4122-b10c-18043b1f1bb6",
   "metadata": {},
   "outputs": [],
   "source": [
    "# Decision\n",
    "reject_null = z_statistic < critical_value"
   ]
  },
  {
   "cell_type": "code",
   "execution_count": 29,
   "id": "3117933e-96c8-418e-b101-6541bc8d6fd0",
   "metadata": {},
   "outputs": [
    {
     "name": "stdout",
     "output_type": "stream",
     "text": [
      "Z-Statistic: -38.0\n",
      "Critical Value: -1.6448536269514729\n",
      "Reject Null Hypothesis: True\n"
     ]
    }
   ],
   "source": [
    "print(f\"Z-Statistic: {z_statistic}\")\n",
    "print(f\"Critical Value: {critical_value}\")\n",
    "print(f\"Reject Null Hypothesis: {reject_null}\")\n"
   ]
  },
  {
   "cell_type": "code",
   "execution_count": null,
   "id": "c81a50ff-1b92-4d1a-b28a-cb1529c9a740",
   "metadata": {},
   "outputs": [],
   "source": []
  }
 ],
 "metadata": {
  "kernelspec": {
   "display_name": "Python 3 (ipykernel)",
   "language": "python",
   "name": "python3"
  },
  "language_info": {
   "codemirror_mode": {
    "name": "ipython",
    "version": 3
   },
   "file_extension": ".py",
   "mimetype": "text/x-python",
   "name": "python",
   "nbconvert_exporter": "python",
   "pygments_lexer": "ipython3",
   "version": "3.10.16"
  }
 },
 "nbformat": 4,
 "nbformat_minor": 5
}
