{
 "cells": [
  {
   "cell_type": "code",
   "execution_count": 26,
   "id": "42549861-9284-4a9e-bcc0-6eac698b8a55",
   "metadata": {},
   "outputs": [
    {
     "name": "stderr",
     "output_type": "stream",
     "text": [
      "UsageError: %%writefile is a cell magic, but the cell body is empty.\n"
     ]
    }
   ],
   "source": [
    "%%writefile titanic_app.py"
   ]
  },
  {
   "cell_type": "code",
   "execution_count": null,
   "id": "616cc16b-6130-4d8c-8491-303263a5b0ef",
   "metadata": {},
   "outputs": [],
   "source": [
    "import streamlit as st\n",
    "import pandas as pd\n",
    "import pickle"
   ]
  },
  {
   "cell_type": "code",
   "execution_count": null,
   "id": "7c779e51-7e2c-474f-8c41-b8f25e0059bb",
   "metadata": {},
   "outputs": [],
   "source": [
    "# Load the trained model from pickle file\n",
    "with open(\"titanic_logistic_model.pkl\", \"rb\") as f:\n",
    "    lr = pickle.load(f)\n"
   ]
  },
  {
   "cell_type": "code",
   "execution_count": null,
   "id": "28d882d2-443e-406a-a047-309bb2ab04bd",
   "metadata": {},
   "outputs": [],
   "source": [
    "# Set title for the web application\n",
    "st.title(\"Titanic Survival Prediction\")\n"
   ]
  },
  {
   "cell_type": "code",
   "execution_count": null,
   "id": "3bb8ca66-197b-4bbb-a78d-7f48c4433c36",
   "metadata": {},
   "outputs": [],
   "source": [
    "# Input widgets to take user input\n",
    "pclass = st.selectbox(\"Passenger Class (Pclass)\", [1, 2, 3])\n",
    "sex = st.selectbox(\"Sex\", ['male', 'female'])\n",
    "age = st.slider(\"Age\", 0, 100, 25)\n",
    "sibsp = st.slider(\"No. of Siblings/Spouses Aboard (SibSp)\", 0, 8, 0)\n",
    "parch = st.slider(\"No. of Parents/Children Aboard (Parch)\", 0, 6, 0)\n",
    "fare = st.slider(\"Fare\", 0.0, 600.0, 50.0)\n"
   ]
  },
  {
   "cell_type": "code",
   "execution_count": null,
   "id": "90c3e00d-8b24-4845-b954-586c9fd37702",
   "metadata": {},
   "outputs": [],
   "source": [
    "# Convert sex to numeric value: male = 1, female = 0\n",
    "sex_encoded = 1 if sex == 'male' else 0\n",
    "\n",
    "# Create input data as a single-row DataFrame\n",
    "input_data = pd.DataFrame([[pclass, sex_encoded, age, sibsp, parch, fare]],\n",
    "                          columns=['Pclass', 'Sex', 'Age', 'SibSp', 'Parch', 'Fare'])\n",
    "\n"
   ]
  },
  {
   "cell_type": "code",
   "execution_count": null,
   "id": "f77aab1b-d2a0-4e2d-a837-0aa594e7db00",
   "metadata": {},
   "outputs": [],
   "source": [
    "# Predict using the trained model\n",
    "if st.button(\"Predict Survival\"):\n",
    "    prediction = model.predict(input_data)[0]\n",
    "    prob = model.predict_proba(input_data)[0][prediction]\n",
    "    \n",
    "    if prediction == 1:\n",
    "        st.success(f\"Prediction: Survived ✅ (Confidence: {prob:.2f})\")\n",
    "    else:\n",
    "        st.error(f\"Prediction: Did Not Survive ❌ (Confidence: {prob:.2f})\")\n"
   ]
  },
  {
   "cell_type": "code",
   "execution_count": null,
   "id": "9d62a386-22e0-41de-95a0-41ba9fcfde6d",
   "metadata": {},
   "outputs": [],
   "source": []
  }
 ],
 "metadata": {
  "kernelspec": {
   "display_name": "Python 3 (ipykernel)",
   "language": "python",
   "name": "python3"
  },
  "language_info": {
   "codemirror_mode": {
    "name": "ipython",
    "version": 3
   },
   "file_extension": ".py",
   "mimetype": "text/x-python",
   "name": "python",
   "nbconvert_exporter": "python",
   "pygments_lexer": "ipython3",
   "version": "3.12.3"
  }
 },
 "nbformat": 4,
 "nbformat_minor": 5
}
