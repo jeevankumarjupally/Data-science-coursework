{
 "cells": [
  {
   "cell_type": "code",
   "execution_count": 144,
   "id": "88bf3f38-7ff7-477f-89be-8662305cf918",
   "metadata": {},
   "outputs": [],
   "source": [
    "# importing libraries \n",
    "import pandas as pd\n",
    "import numpy as np\n",
    "import seaborn as sns\n",
    "import matplotlib.pyplot as plt"
   ]
  },
  {
   "cell_type": "code",
   "execution_count": 145,
   "id": "60c66eb7-2bc2-4c31-a9b9-6f77e8080dd5",
   "metadata": {},
   "outputs": [],
   "source": [
    "# loading and understanding data\n",
    "df = pd.read_csv(\"C:\\\\Users\\\\DELL\\\\Desktop\\\\Assignments\\\\Naive Bayes and Text Mining\\\\blogs.csv\")"
   ]
  },
  {
   "cell_type": "code",
   "execution_count": 146,
   "id": "b6517da2-1ebb-47fe-b60a-0282bb661c6e",
   "metadata": {},
   "outputs": [
    {
     "data": {
      "text/html": [
       "<div>\n",
       "<style scoped>\n",
       "    .dataframe tbody tr th:only-of-type {\n",
       "        vertical-align: middle;\n",
       "    }\n",
       "\n",
       "    .dataframe tbody tr th {\n",
       "        vertical-align: top;\n",
       "    }\n",
       "\n",
       "    .dataframe thead th {\n",
       "        text-align: right;\n",
       "    }\n",
       "</style>\n",
       "<table border=\"1\" class=\"dataframe\">\n",
       "  <thead>\n",
       "    <tr style=\"text-align: right;\">\n",
       "      <th></th>\n",
       "      <th>Data</th>\n",
       "      <th>Labels</th>\n",
       "    </tr>\n",
       "  </thead>\n",
       "  <tbody>\n",
       "    <tr>\n",
       "      <th>0</th>\n",
       "      <td>Path: cantaloupe.srv.cs.cmu.edu!magnesium.club...</td>\n",
       "      <td>alt.atheism</td>\n",
       "    </tr>\n",
       "    <tr>\n",
       "      <th>1</th>\n",
       "      <td>Newsgroups: alt.atheism\\nPath: cantaloupe.srv....</td>\n",
       "      <td>alt.atheism</td>\n",
       "    </tr>\n",
       "    <tr>\n",
       "      <th>2</th>\n",
       "      <td>Path: cantaloupe.srv.cs.cmu.edu!das-news.harva...</td>\n",
       "      <td>alt.atheism</td>\n",
       "    </tr>\n",
       "    <tr>\n",
       "      <th>3</th>\n",
       "      <td>Path: cantaloupe.srv.cs.cmu.edu!magnesium.club...</td>\n",
       "      <td>alt.atheism</td>\n",
       "    </tr>\n",
       "    <tr>\n",
       "      <th>4</th>\n",
       "      <td>Xref: cantaloupe.srv.cs.cmu.edu alt.atheism:53...</td>\n",
       "      <td>alt.atheism</td>\n",
       "    </tr>\n",
       "  </tbody>\n",
       "</table>\n",
       "</div>"
      ],
      "text/plain": [
       "                                                Data       Labels\n",
       "0  Path: cantaloupe.srv.cs.cmu.edu!magnesium.club...  alt.atheism\n",
       "1  Newsgroups: alt.atheism\\nPath: cantaloupe.srv....  alt.atheism\n",
       "2  Path: cantaloupe.srv.cs.cmu.edu!das-news.harva...  alt.atheism\n",
       "3  Path: cantaloupe.srv.cs.cmu.edu!magnesium.club...  alt.atheism\n",
       "4  Xref: cantaloupe.srv.cs.cmu.edu alt.atheism:53...  alt.atheism"
      ]
     },
     "execution_count": 146,
     "metadata": {},
     "output_type": "execute_result"
    }
   ],
   "source": [
    "df.head()"
   ]
  },
  {
   "cell_type": "code",
   "execution_count": 147,
   "id": "69961aa1-71f3-4747-af15-db982b5de055",
   "metadata": {},
   "outputs": [
    {
     "name": "stdout",
     "output_type": "stream",
     "text": [
      "<class 'pandas.core.frame.DataFrame'>\n",
      "RangeIndex: 2000 entries, 0 to 1999\n",
      "Data columns (total 2 columns):\n",
      " #   Column  Non-Null Count  Dtype \n",
      "---  ------  --------------  ----- \n",
      " 0   Data    2000 non-null   object\n",
      " 1   Labels  2000 non-null   object\n",
      "dtypes: object(2)\n",
      "memory usage: 31.4+ KB\n"
     ]
    }
   ],
   "source": [
    "df.info()"
   ]
  },
  {
   "cell_type": "code",
   "execution_count": 148,
   "id": "09b7b376-2ed0-4945-b786-900fad9286de",
   "metadata": {},
   "outputs": [
    {
     "data": {
      "text/plain": [
       "(2000, 2)"
      ]
     },
     "execution_count": 148,
     "metadata": {},
     "output_type": "execute_result"
    }
   ],
   "source": [
    "df.shape"
   ]
  },
  {
   "cell_type": "code",
   "execution_count": 149,
   "id": "80fbded3-e464-435f-922a-1248ea57ab1e",
   "metadata": {},
   "outputs": [
    {
     "data": {
      "text/plain": [
       "Data      0\n",
       "Labels    0\n",
       "dtype: int64"
      ]
     },
     "execution_count": 149,
     "metadata": {},
     "output_type": "execute_result"
    }
   ],
   "source": [
    "# checking for null values\n",
    "df.isnull().sum()"
   ]
  },
  {
   "cell_type": "code",
   "execution_count": 150,
   "id": "6b2d4473-d29c-46b4-a7b7-b7e50601586a",
   "metadata": {},
   "outputs": [
    {
     "data": {
      "text/plain": [
       "Labels\n",
       "alt.atheism                 100\n",
       "comp.graphics               100\n",
       "talk.politics.misc          100\n",
       "talk.politics.mideast       100\n",
       "talk.politics.guns          100\n",
       "soc.religion.christian      100\n",
       "sci.space                   100\n",
       "sci.med                     100\n",
       "sci.electronics             100\n",
       "sci.crypt                   100\n",
       "rec.sport.hockey            100\n",
       "rec.sport.baseball          100\n",
       "rec.motorcycles             100\n",
       "rec.autos                   100\n",
       "misc.forsale                100\n",
       "comp.windows.x              100\n",
       "comp.sys.mac.hardware       100\n",
       "comp.sys.ibm.pc.hardware    100\n",
       "comp.os.ms-windows.misc     100\n",
       "talk.religion.misc          100\n",
       "Name: count, dtype: int64"
      ]
     },
     "execution_count": 150,
     "metadata": {},
     "output_type": "execute_result"
    }
   ],
   "source": [
    "df['Labels'].value_counts()"
   ]
  },
  {
   "cell_type": "code",
   "execution_count": 151,
   "id": "4e00da38-52f9-47ff-9e57-905a424313a0",
   "metadata": {},
   "outputs": [
    {
     "name": "stderr",
     "output_type": "stream",
     "text": [
      "[nltk_data] Downloading package punkt to\n",
      "[nltk_data]     C:\\Users\\DELL\\AppData\\Roaming\\nltk_data...\n",
      "[nltk_data]   Package punkt is already up-to-date!\n",
      "[nltk_data] Downloading package stopwords to\n",
      "[nltk_data]     C:\\Users\\DELL\\AppData\\Roaming\\nltk_data...\n",
      "[nltk_data]   Package stopwords is already up-to-date!\n"
     ]
    },
    {
     "data": {
      "text/plain": [
       "True"
      ]
     },
     "execution_count": 151,
     "metadata": {},
     "output_type": "execute_result"
    }
   ],
   "source": [
    "# importing required libraries for implementation\n",
    "import string\n",
    "from nltk.corpus import stopwords\n",
    "from nltk.tokenize import word_tokenize\n",
    "import nltk\n",
    "from textblob import TextBlob\n",
    "\n",
    "nltk.download('punkt')\n",
    "nltk.download('stopwords')"
   ]
  },
  {
   "cell_type": "code",
   "execution_count": 152,
   "id": "0f9755f8-a808-4a66-8b0a-a69c1578b738",
   "metadata": {},
   "outputs": [],
   "source": [
    "# Text preprocessing\n",
    "stop_words = set(stopwords.words('english'))\n",
    "\n",
    "def clean_text(text):\n",
    "    text = text.lower()\n",
    "    text = re.sub(r'\\d+', '', text)\n",
    "    text = text.translate(str.maketrans('', '', string.punctuation))\n",
    "    tokens = word_tokenize(text)\n",
    "    tokens = [word for word in tokens if word not in stop_words and len(word) > 2]\n",
    "    return \" \".join(tokens)\n",
    "\n",
    "df['cleaned_text'] = df['Data'].astype(str).apply(clean_text)\n"
   ]
  },
  {
   "cell_type": "code",
   "execution_count": 153,
   "id": "24a7b15d-9751-4e00-afc1-5773f89232e6",
   "metadata": {},
   "outputs": [],
   "source": [
    "from sklearn.feature_extraction.text import TfidfVectorizer"
   ]
  },
  {
   "cell_type": "code",
   "execution_count": 154,
   "id": "a89e9b0e-e541-48ab-aec8-ccaf99d3135c",
   "metadata": {},
   "outputs": [],
   "source": [
    "# feature extration using TfidVectorizer\n",
    "vectorizer = TfidfVectorizer()\n",
    "X = vectorizer.fit_transform(df['cleaned_text'])\n",
    "y = df['Labels']"
   ]
  },
  {
   "cell_type": "code",
   "execution_count": 155,
   "id": "a2831d9c-f673-4c95-9c58-17693b64e637",
   "metadata": {},
   "outputs": [],
   "source": [
    "from sklearn.model_selection import train_test_split"
   ]
  },
  {
   "cell_type": "code",
   "execution_count": 156,
   "id": "b72b7441-119e-4abb-bae9-848d1fea752a",
   "metadata": {},
   "outputs": [],
   "source": [
    "# splitting data for training and testing\n",
    "X_train, X_test, y_train, y_test = train_test_split(X, y, test_size=0.2, random_state=42)"
   ]
  },
  {
   "cell_type": "code",
   "execution_count": 157,
   "id": "d3072fc0-a460-492a-a492-9aedc7f082f4",
   "metadata": {},
   "outputs": [],
   "source": [
    "# training naives bayes classifier\n",
    "from sklearn.naive_bayes import MultinomialNB\n",
    "nb_model = MultinomialNB()\n",
    "nb_model.fit(X_train, y_train)\n",
    "y_pred = nb_model.predict(X_test)"
   ]
  },
  {
   "cell_type": "code",
   "execution_count": 158,
   "id": "855e6d68-602e-41c9-a2e8-94108980e6ff",
   "metadata": {},
   "outputs": [],
   "source": [
    "# evaluating the trained model\n",
    "from sklearn.metrics import classification_report, confusion_matrix, accuracy_score"
   ]
  },
  {
   "cell_type": "code",
   "execution_count": 159,
   "id": "e01936c4-db69-4e00-917c-5d69bb20fa39",
   "metadata": {},
   "outputs": [
    {
     "name": "stdout",
     "output_type": "stream",
     "text": [
      "Accuracy: 0.835\n"
     ]
    }
   ],
   "source": [
    "print(\"Accuracy:\", accuracy_score(y_test, y_pred))"
   ]
  },
  {
   "cell_type": "code",
   "execution_count": 160,
   "id": "6a5eeaea-0e59-4df9-8e0b-41e380da42bc",
   "metadata": {},
   "outputs": [
    {
     "name": "stdout",
     "output_type": "stream",
     "text": [
      "Classification Report:\n",
      "                           precision    recall  f1-score   support\n",
      "\n",
      "             alt.atheism       0.53      0.89      0.67        18\n",
      "           comp.graphics       0.80      0.89      0.84        18\n",
      " comp.os.ms-windows.misc       0.95      0.91      0.93        22\n",
      "comp.sys.ibm.pc.hardware       0.86      0.76      0.81        25\n",
      "   comp.sys.mac.hardware       0.79      0.90      0.84        21\n",
      "          comp.windows.x       1.00      0.84      0.91        25\n",
      "            misc.forsale       1.00      0.67      0.80        18\n",
      "               rec.autos       0.89      0.94      0.92        18\n",
      "         rec.motorcycles       0.88      0.88      0.88        16\n",
      "      rec.sport.baseball       0.79      0.83      0.81        18\n",
      "        rec.sport.hockey       0.83      1.00      0.91        15\n",
      "               sci.crypt       0.86      1.00      0.93        19\n",
      "         sci.electronics       0.63      0.75      0.69        16\n",
      "                 sci.med       0.88      0.88      0.88        17\n",
      "               sci.space       1.00      0.90      0.95        21\n",
      "  soc.religion.christian       0.88      0.96      0.92        23\n",
      "      talk.politics.guns       0.92      0.79      0.85        28\n",
      "   talk.politics.mideast       1.00      0.95      0.97        20\n",
      "      talk.politics.misc       0.65      0.94      0.77        18\n",
      "      talk.religion.misc       0.71      0.21      0.32        24\n",
      "\n",
      "                accuracy                           0.83       400\n",
      "               macro avg       0.84      0.84      0.83       400\n",
      "            weighted avg       0.85      0.83      0.83       400\n",
      "\n"
     ]
    }
   ],
   "source": [
    "print(\"Classification Report:\\n\", classification_report(y_test, y_pred))"
   ]
  },
  {
   "cell_type": "code",
   "execution_count": 161,
   "id": "caed65ea-455f-4729-94c3-621522c2219f",
   "metadata": {},
   "outputs": [
    {
     "name": "stdout",
     "output_type": "stream",
     "text": [
      "Confusion Matrix:\n",
      " [[16  0  0  0  0  0  0  0  0  0  0  1  0  0  0  0  0  0  0  1]\n",
      " [ 0 16  0  0  0  0  0  0  0  0  1  0  1  0  0  0  0  0  0  0]\n",
      " [ 0  0 20  2  0  0  0  0  0  0  0  0  0  0  0  0  0  0  0  0]\n",
      " [ 0  0  1 19  0  0  0  0  0  0  0  1  4  0  0  0  0  0  0  0]\n",
      " [ 0  0  0  1 19  0  0  0  0  0  0  0  0  0  0  0  0  0  1  0]\n",
      " [ 0  2  0  0  0 21  0  0  0  1  0  0  0  0  0  0  0  0  1  0]\n",
      " [ 0  0  0  0  2  0 12  1  1  1  0  0  1  0  0  0  0  0  0  0]\n",
      " [ 0  0  0  0  0  0  0 17  1  0  0  0  0  0  0  0  0  0  0  0]\n",
      " [ 0  0  0  0  0  0  0  1 14  0  0  0  1  0  0  0  0  0  0  0]\n",
      " [ 0  0  0  0  0  0  0  0  0 15  2  0  0  1  0  0  0  0  0  0]\n",
      " [ 0  0  0  0  0  0  0  0  0  0 15  0  0  0  0  0  0  0  0  0]\n",
      " [ 0  0  0  0  0  0  0  0  0  0  0 19  0  0  0  0  0  0  0  0]\n",
      " [ 0  0  0  0  2  0  0  0  0  1  0  1 12  0  0  0  0  0  0  0]\n",
      " [ 0  1  0  0  1  0  0  0  0  0  0  0  0 15  0  0  0  0  0  0]\n",
      " [ 0  1  0  0  0  0  0  0  0  1  0  0  0  0 19  0  0  0  0  0]\n",
      " [ 1  0  0  0  0  0  0  0  0  0  0  0  0  0  0 22  0  0  0  0]\n",
      " [ 0  0  0  0  0  0  0  0  0  0  0  0  0  1  0  1 22  0  4  0]\n",
      " [ 0  0  0  0  0  0  0  0  0  0  0  0  0  0  0  0  0 19  1  0]\n",
      " [ 0  0  0  0  0  0  0  0  0  0  0  0  0  0  0  0  0  0 17  1]\n",
      " [13  0  0  0  0  0  0  0  0  0  0  0  0  0  0  2  2  0  2  5]]\n"
     ]
    }
   ],
   "source": [
    "print(\"Confusion Matrix:\\n\", confusion_matrix(y_test, y_pred))"
   ]
  },
  {
   "cell_type": "code",
   "execution_count": 162,
   "id": "7ebf91cf-398b-40e1-9528-49e7f726187d",
   "metadata": {},
   "outputs": [
    {
     "name": "stdout",
     "output_type": "stream",
     "text": [
      "        Labels Sentiment\n",
      "0  alt.atheism  Positive\n",
      "1  alt.atheism  Negative\n",
      "2  alt.atheism  Positive\n",
      "3  alt.atheism  Positive\n",
      "4  alt.atheism  Positive\n"
     ]
    }
   ],
   "source": [
    "# Sentiment Analysis using TextBlob\n",
    "def get_sentiment(text):\n",
    "    analysis = TextBlob(text)\n",
    "    polarity = analysis.sentiment.polarity\n",
    "    if polarity > 0.05:\n",
    "        return 'Positive'\n",
    "    elif polarity < -0.05:\n",
    "        return 'Negative'\n",
    "    else:\n",
    "        return 'Neutral'\n",
    "\n",
    "df['Sentiment'] = df['Data'].astype(str).apply(get_sentiment)\n",
    "print(df[['Labels', 'Sentiment']].head())"
   ]
  },
  {
   "cell_type": "code",
   "execution_count": 163,
   "id": "68e75424-50ab-4aa2-8ce5-489e1944d7a2",
   "metadata": {},
   "outputs": [
    {
     "name": "stdout",
     "output_type": "stream",
     "text": [
      "Sentiment                 Negative  Neutral  Positive\n",
      "Labels                                               \n",
      "alt.atheism                     12       28        60\n",
      "comp.graphics                   15       25        60\n",
      "comp.os.ms-windows.misc         17       19        64\n",
      "comp.sys.ibm.pc.hardware        12       27        61\n",
      "comp.sys.mac.hardware           12       24        64\n",
      "comp.windows.x                  17       27        56\n",
      "misc.forsale                    13       21        66\n",
      "rec.autos                       11       20        69\n",
      "rec.motorcycles                 14       24        62\n",
      "rec.sport.baseball              17       27        56\n",
      "rec.sport.hockey                20       28        52\n",
      "sci.crypt                        8       32        60\n",
      "sci.electronics                  7       39        54\n",
      "sci.med                         19       28        53\n",
      "sci.space                       13       22        65\n",
      "soc.religion.christian           9       33        58\n",
      "talk.politics.guns              19       30        51\n",
      "talk.politics.mideast           11       41        48\n",
      "talk.politics.misc              11       26        63\n",
      "talk.religion.misc               9       21        70\n"
     ]
    },
    {
     "data": {
      "image/png": "[encoded data removed]",
      "text/plain": [
       "<Figure size 1000x600 with 1 Axes>"
      ]
     },
     "metadata": {},
     "output_type": "display_data"
    }
   ],
   "source": [
    "# Sentiment Distribution Across Categories\n",
    "sentiment_dist = pd.crosstab(df['Labels'], df['Sentiment'])\n",
    "print(sentiment_dist)\n",
    "\n",
    "sentiment_dist.plot(kind='bar', stacked=True, figsize=(10,6))\n",
    "plt.title(\"Sentiment Distribution Across Blog Categories\")\n",
    "plt.xlabel(\"Category\")\n",
    "plt.ylabel(\"Number of Blogs\")\n",
    "plt.xticks(rotation=45)\n",
    "plt.tight_layout()\n",
    "plt.show()"
   ]
  },
  {
   "cell_type": "markdown",
   "id": "1ea55fc7-ba18-48b0-bb33-16a2b3e02096",
   "metadata": {},
   "source": [
    "## Summary and Observations\n",
    "\n",
    "###  Data Preprocessing and Feature Extraction:\n",
    "- Cleaned the blog texts by converting to lowercase, removing punctuation, numbers, and stopwords.\n",
    "- Used **TF-IDF Vectorizer** to convert the cleaned text into numerical feature vectors.\n",
    "\n",
    "###  Naive Bayes Text Classification:\n",
    "- Used **Multinomial Naive Bayes** for classifying blogs into categories.\n",
    "- **Train-Test Split:** 80% training and 20% testing data.\n",
    "- **Model Accuracy:** **0.83**\n",
    "\n",
    "###  Classification Report Metrics:\n",
    "- **Precision (Macro Average):** 0.84\n",
    "- **Recall (Macro Average):** 0.84\n",
    "- **F1-Score (Macro Average):** 0.83\n",
    "- **Weighted Average F1-Score:** 0.83\n",
    "\n",
    "These scores indicate that the model performed well across different categories, with balanced precision and recall.\n",
    "\n",
    "###  Sentiment Analysis:\n",
    "- Used **TextBlob** for sentiment detection.\n",
    "- Classified each blog post as **Positive**, **Negative**, or **Neutral** based on text polarity.\n",
    "- Most blogs showed **neutral** or **positive sentiment**.\n",
    "- Plotted sentiment distribution across categories for visual understanding.\n",
    "\n",
    "###  Overall:\n",
    "- Successfully implemented **Naive Bayes text classification** and **basic sentiment analysis**.\n",
    "- Model shows **good accuracy and balance across classes**.\n",
    "- Sentiment trends provide additional insight into the emotional tone of different blog categories.\n"
   ]
  },
  {
   "cell_type": "code",
   "execution_count": null,
   "id": "fb43772b-15a3-450b-9a39-aaba2a2e0f30",
   "metadata": {},
   "outputs": [],
   "source": []
  }
 ],
 "metadata": {
  "kernelspec": {
   "display_name": "Python 3 (ipykernel)",
   "language": "python",
   "name": "python3"
  },
  "language_info": {
   "codemirror_mode": {
    "name": "ipython",
    "version": 3
   },
   "file_extension": ".py",
   "mimetype": "text/x-python",
   "name": "python",
   "nbconvert_exporter": "python",
   "pygments_lexer": "ipython3",
   "version": "3.12.3"
  }
 },
 "nbformat": 4,
 "nbformat_minor": 5
}
