{
 "cells": [
  {
   "cell_type": "code",
   "execution_count": 1,
   "id": "1efd5d48-50a0-4a4e-be0a-aace32ace175",
   "metadata": {},
   "outputs": [],
   "source": [
    "# importing libraries\n",
    "import pandas as pd\n",
    "import numpy as np\n",
    "import matplotlib.pyplot as plt\n",
    "import seaborn as sns"
   ]
  },
  {
   "cell_type": "code",
   "execution_count": 3,
   "id": "03a4bdc3-6fca-47d8-9b1e-9ee6b2f061f1",
   "metadata": {},
   "outputs": [],
   "source": [
    "# loading and understanding data \n",
    "df = pd.read_csv(\"C:\\\\Users\\\\DELL\\\\Desktop\\\\Assignments\\\\Neural networks\\\\Alphabets_data.csv\")"
   ]
  },
  {
   "cell_type": "code",
   "execution_count": 37,
   "id": "cedf51e1-2a6f-4591-aed2-6aa1e1b8f2b3",
   "metadata": {},
   "outputs": [
    {
     "data": {
      "text/plain": [
       "(20000, 17)"
      ]
     },
     "execution_count": 37,
     "metadata": {},
     "output_type": "execute_result"
    }
   ],
   "source": [
    "df.shape"
   ]
  },
  {
   "cell_type": "code",
   "execution_count": 39,
   "id": "8ca9ac74-335d-4ca9-8b56-67a0774ccfc5",
   "metadata": {},
   "outputs": [
    {
     "name": "stdout",
     "output_type": "stream",
     "text": [
      "<class 'pandas.core.frame.DataFrame'>\n",
      "RangeIndex: 20000 entries, 0 to 19999\n",
      "Data columns (total 17 columns):\n",
      " #   Column  Non-Null Count  Dtype\n",
      "---  ------  --------------  -----\n",
      " 0   letter  20000 non-null  int32\n",
      " 1   xbox    20000 non-null  int64\n",
      " 2   ybox    20000 non-null  int64\n",
      " 3   width   20000 non-null  int64\n",
      " 4   height  20000 non-null  int64\n",
      " 5   onpix   20000 non-null  int64\n",
      " 6   xbar    20000 non-null  int64\n",
      " 7   ybar    20000 non-null  int64\n",
      " 8   x2bar   20000 non-null  int64\n",
      " 9   y2bar   20000 non-null  int64\n",
      " 10  xybar   20000 non-null  int64\n",
      " 11  x2ybar  20000 non-null  int64\n",
      " 12  xy2bar  20000 non-null  int64\n",
      " 13  xedge   20000 non-null  int64\n",
      " 14  xedgey  20000 non-null  int64\n",
      " 15  yedge   20000 non-null  int64\n",
      " 16  yedgex  20000 non-null  int64\n",
      "dtypes: int32(1), int64(16)\n",
      "memory usage: 2.5 MB\n"
     ]
    }
   ],
   "source": [
    "df.info()"
   ]
  },
  {
   "cell_type": "code",
   "execution_count": 41,
   "id": "f0539978-d7bc-4e41-aba7-005d75974885",
   "metadata": {},
   "outputs": [
    {
     "data": {
      "text/plain": [
       "letter\n",
       "20    813\n",
       "3     805\n",
       "15    803\n",
       "19    796\n",
       "12    792\n",
       "0     789\n",
       "23    787\n",
       "24    786\n",
       "13    783\n",
       "16    783\n",
       "5     775\n",
       "6     773\n",
       "4     768\n",
       "1     766\n",
       "21    764\n",
       "11    761\n",
       "17    758\n",
       "8     755\n",
       "14    753\n",
       "22    752\n",
       "18    748\n",
       "9     747\n",
       "10    739\n",
       "2     736\n",
       "7     734\n",
       "25    734\n",
       "Name: count, dtype: int64"
      ]
     },
     "execution_count": 41,
     "metadata": {},
     "output_type": "execute_result"
    }
   ],
   "source": [
    "df['letter'].value_counts()"
   ]
  },
  {
   "cell_type": "code",
   "execution_count": 7,
   "id": "9757b4e9-6e34-4b25-8fed-85d7c5e3fc3f",
   "metadata": {},
   "outputs": [
    {
     "name": "stdout",
     "output_type": "stream",
     "text": [
      "letter    0\n",
      "xbox      0\n",
      "ybox      0\n",
      "width     0\n",
      "height    0\n",
      "onpix     0\n",
      "xbar      0\n",
      "ybar      0\n",
      "x2bar     0\n",
      "y2bar     0\n",
      "xybar     0\n",
      "x2ybar    0\n",
      "xy2bar    0\n",
      "xedge     0\n",
      "xedgey    0\n",
      "yedge     0\n",
      "yedgex    0\n",
      "dtype: int64\n"
     ]
    }
   ],
   "source": [
    "# Check for missing values\n",
    "print(df.isnull().sum())"
   ]
  },
  {
   "cell_type": "code",
   "execution_count": 9,
   "id": "8217de50-2872-41e2-aaa7-075f8c6d0d36",
   "metadata": {},
   "outputs": [],
   "source": [
    "# Encoding target labels (col = letter)\n",
    "from sklearn.preprocessing import LabelEncoder\n",
    "le = LabelEncoder()\n",
    "df['letter'] = le.fit_transform(df['letter'])\n",
    "\n",
    "X = df.drop('letter', axis=1)\n",
    "y = df['letter']"
   ]
  },
  {
   "cell_type": "code",
   "execution_count": 43,
   "id": "8d04d82d-cc7c-47b0-948b-87fe635a346f",
   "metadata": {},
   "outputs": [],
   "source": [
    "# Normalize using StandardScaler\n",
    "from sklearn.preprocessing import StandardScaler\n",
    "scaler = StandardScaler()\n",
    "X_scaled = scaler.fit_transform(X)"
   ]
  },
  {
   "cell_type": "code",
   "execution_count": 45,
   "id": "eef3f11b-b12c-44b6-8f41-56ea8c42764d",
   "metadata": {},
   "outputs": [],
   "source": [
    "# splitting data for training and testing\n",
    "from sklearn.model_selection import train_test_split\n",
    "X_train, X_test, y_train, y_test = train_test_split(\n",
    "    X_scaled, y, test_size=0.2, random_state=42, stratify=y\n",
    ")\n"
   ]
  },
  {
   "cell_type": "code",
   "execution_count": 51,
   "id": "c5cd5e56-4f6a-4f83-8b4d-7c687b607ea8",
   "metadata": {},
   "outputs": [],
   "source": [
    "# importing required libraries for ANN model\n",
    "import tensorflow as tf\n",
    "from tensorflow.keras.models import Sequential\n",
    "from tensorflow.keras.layers import Dense\n",
    "from tensorflow.keras.optimizers import Adam"
   ]
  },
  {
   "cell_type": "code",
   "execution_count": 15,
   "id": "f2c274df-f63b-42b9-9e07-1fb71146bc25",
   "metadata": {},
   "outputs": [
    {
     "name": "stderr",
     "output_type": "stream",
     "text": [
      "C:\\Users\\DELL\\anaconda3\\Lib\\site-packages\\keras\\src\\layers\\core\\dense.py:87: UserWarning: Do not pass an `input_shape`/`input_dim` argument to a layer. When using Sequential models, prefer using an `Input(shape)` object as the first layer in the model instead.\n",
      "  super().__init__(activity_regularizer=activity_regularizer, **kwargs)\n"
     ]
    },
    {
     "data": {
      "text/html": [
       "<pre style=\"white-space:pre;overflow-x:auto;line-height:normal;font-family:Menlo,'DejaVu Sans Mono',consolas,'Courier New',monospace\"><span style=\"font-weight: bold\">Model: \"sequential\"</span>\n",
       "</pre>\n"
      ],
      "text/plain": [
       "\u001b[1mModel: \"sequential\"\u001b[0m\n"
      ]
     },
     "metadata": {},
     "output_type": "display_data"
    },
    {
     "data": {
      "text/html": [
       "<pre style=\"white-space:pre;overflow-x:auto;line-height:normal;font-family:Menlo,'DejaVu Sans Mono',consolas,'Courier New',monospace\">┏━━━━━━━━━━━━━━━━━━━━━━━━━━━━━━━━━━━━━━┳━━━━━━━━━━━━━━━━━━━━━━━━━━━━━┳━━━━━━━━━━━━━━━━━┓\n",
       "┃<span style=\"font-weight: bold\"> Layer (type)                         </span>┃<span style=\"font-weight: bold\"> Output Shape                </span>┃<span style=\"font-weight: bold\">         Param # </span>┃\n",
       "┡━━━━━━━━━━━━━━━━━━━━━━━━━━━━━━━━━━━━━━╇━━━━━━━━━━━━━━━━━━━━━━━━━━━━━╇━━━━━━━━━━━━━━━━━┩\n",
       "│ dense (<span style=\"color: #0087ff; text-decoration-color: #0087ff\">Dense</span>)                        │ (<span style=\"color: #00d7ff; text-decoration-color: #00d7ff\">None</span>, <span style=\"color: #00af00; text-decoration-color: #00af00\">64</span>)                  │           <span style=\"color: #00af00; text-decoration-color: #00af00\">1,088</span> │\n",
       "├──────────────────────────────────────┼─────────────────────────────┼─────────────────┤\n",
       "│ dense_1 (<span style=\"color: #0087ff; text-decoration-color: #0087ff\">Dense</span>)                      │ (<span style=\"color: #00d7ff; text-decoration-color: #00d7ff\">None</span>, <span style=\"color: #00af00; text-decoration-color: #00af00\">32</span>)                  │           <span style=\"color: #00af00; text-decoration-color: #00af00\">2,080</span> │\n",
       "├──────────────────────────────────────┼─────────────────────────────┼─────────────────┤\n",
       "│ dense_2 (<span style=\"color: #0087ff; text-decoration-color: #0087ff\">Dense</span>)                      │ (<span style=\"color: #00d7ff; text-decoration-color: #00d7ff\">None</span>, <span style=\"color: #00af00; text-decoration-color: #00af00\">26</span>)                  │             <span style=\"color: #00af00; text-decoration-color: #00af00\">858</span> │\n",
       "└──────────────────────────────────────┴─────────────────────────────┴─────────────────┘\n",
       "</pre>\n"
      ],
      "text/plain": [
       "┏━━━━━━━━━━━━━━━━━━━━━━━━━━━━━━━━━━━━━━┳━━━━━━━━━━━━━━━━━━━━━━━━━━━━━┳━━━━━━━━━━━━━━━━━┓\n",
       "┃\u001b[1m \u001b[0m\u001b[1mLayer (type)                        \u001b[0m\u001b[1m \u001b[0m┃\u001b[1m \u001b[0m\u001b[1mOutput Shape               \u001b[0m\u001b[1m \u001b[0m┃\u001b[1m \u001b[0m\u001b[1m        Param #\u001b[0m\u001b[1m \u001b[0m┃\n",
       "┡━━━━━━━━━━━━━━━━━━━━━━━━━━━━━━━━━━━━━━╇━━━━━━━━━━━━━━━━━━━━━━━━━━━━━╇━━━━━━━━━━━━━━━━━┩\n",
       "│ dense (\u001b[38;5;33mDense\u001b[0m)                        │ (\u001b[38;5;45mNone\u001b[0m, \u001b[38;5;34m64\u001b[0m)                  │           \u001b[38;5;34m1,088\u001b[0m │\n",
       "├──────────────────────────────────────┼─────────────────────────────┼─────────────────┤\n",
       "│ dense_1 (\u001b[38;5;33mDense\u001b[0m)                      │ (\u001b[38;5;45mNone\u001b[0m, \u001b[38;5;34m32\u001b[0m)                  │           \u001b[38;5;34m2,080\u001b[0m │\n",
       "├──────────────────────────────────────┼─────────────────────────────┼─────────────────┤\n",
       "│ dense_2 (\u001b[38;5;33mDense\u001b[0m)                      │ (\u001b[38;5;45mNone\u001b[0m, \u001b[38;5;34m26\u001b[0m)                  │             \u001b[38;5;34m858\u001b[0m │\n",
       "└──────────────────────────────────────┴─────────────────────────────┴─────────────────┘\n"
      ]
     },
     "metadata": {},
     "output_type": "display_data"
    },
    {
     "data": {
      "text/html": [
       "<pre style=\"white-space:pre;overflow-x:auto;line-height:normal;font-family:Menlo,'DejaVu Sans Mono',consolas,'Courier New',monospace\"><span style=\"font-weight: bold\"> Total params: </span><span style=\"color: #00af00; text-decoration-color: #00af00\">4,026</span> (15.73 KB)\n",
       "</pre>\n"
      ],
      "text/plain": [
       "\u001b[1m Total params: \u001b[0m\u001b[38;5;34m4,026\u001b[0m (15.73 KB)\n"
      ]
     },
     "metadata": {},
     "output_type": "display_data"
    },
    {
     "data": {
      "text/html": [
       "<pre style=\"white-space:pre;overflow-x:auto;line-height:normal;font-family:Menlo,'DejaVu Sans Mono',consolas,'Courier New',monospace\"><span style=\"font-weight: bold\"> Trainable params: </span><span style=\"color: #00af00; text-decoration-color: #00af00\">4,026</span> (15.73 KB)\n",
       "</pre>\n"
      ],
      "text/plain": [
       "\u001b[1m Trainable params: \u001b[0m\u001b[38;5;34m4,026\u001b[0m (15.73 KB)\n"
      ]
     },
     "metadata": {},
     "output_type": "display_data"
    },
    {
     "data": {
      "text/html": [
       "<pre style=\"white-space:pre;overflow-x:auto;line-height:normal;font-family:Menlo,'DejaVu Sans Mono',consolas,'Courier New',monospace\"><span style=\"font-weight: bold\"> Non-trainable params: </span><span style=\"color: #00af00; text-decoration-color: #00af00\">0</span> (0.00 B)\n",
       "</pre>\n"
      ],
      "text/plain": [
       "\u001b[1m Non-trainable params: \u001b[0m\u001b[38;5;34m0\u001b[0m (0.00 B)\n"
      ]
     },
     "metadata": {},
     "output_type": "display_data"
    }
   ],
   "source": [
    "# ANN model implemenntation\n",
    "model = Sequential([\n",
    "    Dense(64, activation='relu', input_shape=(X_train.shape[1],)),\n",
    "    Dense(32, activation='relu'),\n",
    "    Dense(len(le.classes_), activation='softmax')  # for multi-class classification\n",
    "])\n",
    "\n",
    "model.compile(optimizer='adam', loss='sparse_categorical_crossentropy', metrics=['accuracy'])\n",
    "model.summary()\n"
   ]
  },
  {
   "cell_type": "code",
   "execution_count": 17,
   "id": "d6b3d313-7873-4389-a762-648c726362de",
   "metadata": {},
   "outputs": [
    {
     "name": "stdout",
     "output_type": "stream",
     "text": [
      "Epoch 1/20\n",
      "\u001b[1m450/450\u001b[0m \u001b[32m━━━━━━━━━━━━━━━━━━━━\u001b[0m\u001b[37m\u001b[0m \u001b[1m12s\u001b[0m 10ms/step - accuracy: 0.3061 - loss: 2.5201 - val_accuracy: 0.7019 - val_loss: 1.0788\n",
      "Epoch 2/20\n",
      "\u001b[1m450/450\u001b[0m \u001b[32m━━━━━━━━━━━━━━━━━━━━\u001b[0m\u001b[37m\u001b[0m \u001b[1m3s\u001b[0m 7ms/step - accuracy: 0.7245 - loss: 0.9743 - val_accuracy: 0.7906 - val_loss: 0.7850\n",
      "Epoch 3/20\n",
      "\u001b[1m450/450\u001b[0m \u001b[32m━━━━━━━━━━━━━━━━━━━━\u001b[0m\u001b[37m\u001b[0m \u001b[1m4s\u001b[0m 8ms/step - accuracy: 0.7974 - loss: 0.7245 - val_accuracy: 0.8269 - val_loss: 0.6561\n",
      "Epoch 4/20\n",
      "\u001b[1m450/450\u001b[0m \u001b[32m━━━━━━━━━━━━━━━━━━━━\u001b[0m\u001b[37m\u001b[0m \u001b[1m6s\u001b[0m 11ms/step - accuracy: 0.8280 - loss: 0.5972 - val_accuracy: 0.8400 - val_loss: 0.5790\n",
      "Epoch 5/20\n",
      "\u001b[1m450/450\u001b[0m \u001b[32m━━━━━━━━━━━━━━━━━━━━\u001b[0m\u001b[37m\u001b[0m \u001b[1m4s\u001b[0m 10ms/step - accuracy: 0.8511 - loss: 0.5371 - val_accuracy: 0.8612 - val_loss: 0.5089\n",
      "Epoch 6/20\n",
      "\u001b[1m450/450\u001b[0m \u001b[32m━━━━━━━━━━━━━━━━━━━━\u001b[0m\u001b[37m\u001b[0m \u001b[1m4s\u001b[0m 8ms/step - accuracy: 0.8620 - loss: 0.4698 - val_accuracy: 0.8662 - val_loss: 0.4870\n",
      "Epoch 7/20\n",
      "\u001b[1m450/450\u001b[0m \u001b[32m━━━━━━━━━━━━━━━━━━━━\u001b[0m\u001b[37m\u001b[0m \u001b[1m5s\u001b[0m 8ms/step - accuracy: 0.8751 - loss: 0.4288 - val_accuracy: 0.8763 - val_loss: 0.4351\n",
      "Epoch 8/20\n",
      "\u001b[1m450/450\u001b[0m \u001b[32m━━━━━━━━━━━━━━━━━━━━\u001b[0m\u001b[37m\u001b[0m \u001b[1m6s\u001b[0m 11ms/step - accuracy: 0.8885 - loss: 0.3878 - val_accuracy: 0.8881 - val_loss: 0.4107\n",
      "Epoch 9/20\n",
      "\u001b[1m450/450\u001b[0m \u001b[32m━━━━━━━━━━━━━━━━━━━━\u001b[0m\u001b[37m\u001b[0m \u001b[1m3s\u001b[0m 6ms/step - accuracy: 0.8924 - loss: 0.3692 - val_accuracy: 0.8931 - val_loss: 0.3830\n",
      "Epoch 10/20\n",
      "\u001b[1m450/450\u001b[0m \u001b[32m━━━━━━━━━━━━━━━━━━━━\u001b[0m\u001b[37m\u001b[0m \u001b[1m3s\u001b[0m 7ms/step - accuracy: 0.9012 - loss: 0.3338 - val_accuracy: 0.8944 - val_loss: 0.3558\n",
      "Epoch 11/20\n",
      "\u001b[1m450/450\u001b[0m \u001b[32m━━━━━━━━━━━━━━━━━━━━\u001b[0m\u001b[37m\u001b[0m \u001b[1m3s\u001b[0m 7ms/step - accuracy: 0.9082 - loss: 0.3091 - val_accuracy: 0.9000 - val_loss: 0.3441\n",
      "Epoch 12/20\n",
      "\u001b[1m450/450\u001b[0m \u001b[32m━━━━━━━━━━━━━━━━━━━━\u001b[0m\u001b[37m\u001b[0m \u001b[1m6s\u001b[0m 8ms/step - accuracy: 0.9115 - loss: 0.2888 - val_accuracy: 0.9062 - val_loss: 0.3269\n",
      "Epoch 13/20\n",
      "\u001b[1m450/450\u001b[0m \u001b[32m━━━━━━━━━━━━━━━━━━━━\u001b[0m\u001b[37m\u001b[0m \u001b[1m6s\u001b[0m 9ms/step - accuracy: 0.9155 - loss: 0.2783 - val_accuracy: 0.9131 - val_loss: 0.3084\n",
      "Epoch 14/20\n",
      "\u001b[1m450/450\u001b[0m \u001b[32m━━━━━━━━━━━━━━━━━━━━\u001b[0m\u001b[37m\u001b[0m \u001b[1m6s\u001b[0m 11ms/step - accuracy: 0.9160 - loss: 0.2653 - val_accuracy: 0.9087 - val_loss: 0.3010\n",
      "Epoch 15/20\n",
      "\u001b[1m450/450\u001b[0m \u001b[32m━━━━━━━━━━━━━━━━━━━━\u001b[0m\u001b[37m\u001b[0m \u001b[1m4s\u001b[0m 9ms/step - accuracy: 0.9226 - loss: 0.2529 - val_accuracy: 0.9125 - val_loss: 0.2856\n",
      "Epoch 16/20\n",
      "\u001b[1m450/450\u001b[0m \u001b[32m━━━━━━━━━━━━━━━━━━━━\u001b[0m\u001b[37m\u001b[0m \u001b[1m4s\u001b[0m 8ms/step - accuracy: 0.9293 - loss: 0.2385 - val_accuracy: 0.9100 - val_loss: 0.2962\n",
      "Epoch 17/20\n",
      "\u001b[1m450/450\u001b[0m \u001b[32m━━━━━━━━━━━━━━━━━━━━\u001b[0m\u001b[37m\u001b[0m \u001b[1m7s\u001b[0m 11ms/step - accuracy: 0.9322 - loss: 0.2264 - val_accuracy: 0.9169 - val_loss: 0.2783\n",
      "Epoch 18/20\n",
      "\u001b[1m450/450\u001b[0m \u001b[32m━━━━━━━━━━━━━━━━━━━━\u001b[0m\u001b[37m\u001b[0m \u001b[1m4s\u001b[0m 8ms/step - accuracy: 0.9354 - loss: 0.2101 - val_accuracy: 0.9131 - val_loss: 0.2697\n",
      "Epoch 19/20\n",
      "\u001b[1m450/450\u001b[0m \u001b[32m━━━━━━━━━━━━━━━━━━━━\u001b[0m\u001b[37m\u001b[0m \u001b[1m4s\u001b[0m 9ms/step - accuracy: 0.9361 - loss: 0.2053 - val_accuracy: 0.9125 - val_loss: 0.2663\n",
      "Epoch 20/20\n",
      "\u001b[1m450/450\u001b[0m \u001b[32m━━━━━━━━━━━━━━━━━━━━\u001b[0m\u001b[37m\u001b[0m \u001b[1m5s\u001b[0m 9ms/step - accuracy: 0.9386 - loss: 0.1953 - val_accuracy: 0.9162 - val_loss: 0.2587\n"
     ]
    }
   ],
   "source": [
    "# training the model\n",
    "history = model.fit(X_train, y_train, epochs=20, batch_size=32, validation_split=0.1)"
   ]
  },
  {
   "cell_type": "code",
   "execution_count": 47,
   "id": "2379f25a-aa86-4808-ab41-b0251d012903",
   "metadata": {},
   "outputs": [
    {
     "name": "stdout",
     "output_type": "stream",
     "text": [
      "\u001b[1m125/125\u001b[0m \u001b[32m━━━━━━━━━━━━━━━━━━━━\u001b[0m\u001b[37m\u001b[0m \u001b[1m0s\u001b[0m 2ms/step\n"
     ]
    }
   ],
   "source": [
    "# model evaluation\n",
    "y_pred = np.argmax(model.predict(X_test), axis=1)"
   ]
  },
  {
   "cell_type": "code",
   "execution_count": 49,
   "id": "83d2dcd8-2655-4361-86ef-74148e79d639",
   "metadata": {},
   "outputs": [
    {
     "name": "stdout",
     "output_type": "stream",
     "text": [
      "Accuracy: 0.92775\n",
      "\n",
      "Classification Report:\n",
      "               precision    recall  f1-score   support\n",
      "\n",
      "           A       0.94      0.95      0.94       158\n",
      "           B       0.86      0.93      0.89       153\n",
      "           C       0.87      0.97      0.92       147\n",
      "           D       0.92      0.94      0.93       161\n",
      "           E       0.89      0.93      0.91       154\n",
      "           F       0.96      0.86      0.90       155\n",
      "           G       0.92      0.86      0.89       155\n",
      "           H       0.84      0.90      0.87       147\n",
      "           I       0.93      0.91      0.92       151\n",
      "           J       0.90      0.95      0.93       149\n",
      "           K       0.96      0.90      0.93       148\n",
      "           L       0.97      0.94      0.95       152\n",
      "           M       0.98      0.95      0.96       158\n",
      "           N       0.97      0.89      0.93       157\n",
      "           O       0.94      0.90      0.92       150\n",
      "           P       0.90      0.95      0.92       161\n",
      "           Q       0.96      0.96      0.96       157\n",
      "           R       0.85      0.87      0.86       151\n",
      "           S       0.94      0.88      0.91       150\n",
      "           T       0.97      0.92      0.95       159\n",
      "           U       0.97      0.98      0.98       163\n",
      "           V       0.97      0.93      0.95       153\n",
      "           W       0.97      0.99      0.98       150\n",
      "           X       0.95      0.88      0.91       157\n",
      "           Y       0.92      0.98      0.95       157\n",
      "           Z       0.92      0.98      0.95       147\n",
      "\n",
      "    accuracy                           0.93      4000\n",
      "   macro avg       0.93      0.93      0.93      4000\n",
      "weighted avg       0.93      0.93      0.93      4000\n",
      "\n"
     ]
    }
   ],
   "source": [
    "# Accuracy and Classification Report\n",
    "from sklearn.metrics import classification_report, accuracy_score\n",
    "print(\"Accuracy:\", accuracy_score(y_test, y_pred))\n",
    "print(\"\\nClassification Report:\\n\", classification_report(y_test, y_pred, target_names=le.classes_))"
   ]
  },
  {
   "cell_type": "code",
   "execution_count": 21,
   "id": "9ebcabde-84c2-455a-8cac-4680cb978931",
   "metadata": {},
   "outputs": [
    {
     "data": {
      "image/png": "[encoded data removed]",
      "text/plain": [
       "<Figure size 640x480 with 1 Axes>"
      ]
     },
     "metadata": {},
     "output_type": "display_data"
    }
   ],
   "source": [
    "# plotting training history\n",
    "plt.plot(history.history['accuracy'], label='Train Accuracy')\n",
    "plt.plot(history.history['val_accuracy'], label='Val Accuracy')\n",
    "plt.xlabel('Epochs')\n",
    "plt.ylabel('Accuracy')\n",
    "plt.legend()\n",
    "plt.title('Training History')\n",
    "plt.show()\n"
   ]
  },
  {
   "cell_type": "code",
   "execution_count": 33,
   "id": "0edfd47d-df14-4c02-89c1-0d0f1893c7de",
   "metadata": {},
   "outputs": [
    {
     "name": "stdout",
     "output_type": "stream",
     "text": [
      "Trial 5 Complete [00h 00m 52s]\n",
      "val_accuracy: 0.7071874737739563\n",
      "\n",
      "Best val_accuracy So Far: 0.9315624833106995\n",
      "Total elapsed time: 00h 04m 39s\n"
     ]
    },
    {
     "name": "stderr",
     "output_type": "stream",
     "text": [
      "C:\\Users\\DELL\\anaconda3\\Lib\\site-packages\\keras\\src\\saving\\saving_lib.py:757: UserWarning: Skipping variable loading for optimizer 'adam', because it has 2 variables whereas the saved optimizer has 14 variables. \n",
      "  saveable.load_own_variables(weights_store.get(inner_path))\n"
     ]
    }
   ],
   "source": [
    "# hyper parameter tuning\n",
    "import keras_tuner as kt\n",
    "\n",
    "def build_model(hp):\n",
    "    model = Sequential()\n",
    "    model.add(Dense(\n",
    "        hp.Int('units_input', min_value=32, max_value=128, step=16),\n",
    "        activation=hp.Choice('activation_input', ['relu', 'tanh']),\n",
    "        input_shape=(X_train.shape[1],)\n",
    "    ))\n",
    "    for i in range(hp.Int('num_layers', 1, 3)):\n",
    "        model.add(Dense(\n",
    "            hp.Int(f'units_{i}', min_value=16, max_value=128, step=16),\n",
    "            activation=hp.Choice(f'activation_{i}', ['relu', 'tanh'])\n",
    "        ))\n",
    "    model.add(Dense(len(le.classes_), activation='softmax'))\n",
    "\n",
    "    model.compile(\n",
    "        optimizer=Adam(hp.Choice('learning_rate', [0.001, 0.0005, 0.0001])),\n",
    "        loss='sparse_categorical_crossentropy',\n",
    "        metrics=['accuracy']\n",
    "    )\n",
    "    return model\n",
    "\n",
    "tuner = kt.RandomSearch(\n",
    "    build_model,\n",
    "    objective='val_accuracy',\n",
    "    max_trials=5,\n",
    "    directory='tuner_dir',\n",
    "    project_name='alphabet_ann'\n",
    ")\n",
    "\n",
    "tuner.search(X_train, y_train, epochs=10, validation_split=0.2)\n",
    "best_model = tuner.get_best_models(num_models=1)[0]\n"
   ]
  },
  {
   "cell_type": "code",
   "execution_count": 55,
   "id": "87376b2e-d0b3-47b5-9bf0-ee86ee6e06bb",
   "metadata": {},
   "outputs": [
    {
     "name": "stdout",
     "output_type": "stream",
     "text": [
      "\u001b[1m125/125\u001b[0m \u001b[32m━━━━━━━━━━━━━━━━━━━━\u001b[0m\u001b[37m\u001b[0m \u001b[1m1s\u001b[0m 2ms/step\n"
     ]
    }
   ],
   "source": [
    "# Evaluating tunned model\n",
    "y_pred_tuned = np.argmax(best_model.predict(X_test), axis=1)"
   ]
  },
  {
   "cell_type": "code",
   "execution_count": 57,
   "id": "d98de36c-0c6d-44ea-92b6-764d03ea7495",
   "metadata": {},
   "outputs": [
    {
     "name": "stdout",
     "output_type": "stream",
     "text": [
      "Tuned Accuracy: 0.9295\n",
      "\n",
      "Tuned Classification Report:\n",
      "               precision    recall  f1-score   support\n",
      "\n",
      "           A       0.98      0.96      0.97       158\n",
      "           B       0.89      0.82      0.86       153\n",
      "           C       0.95      0.97      0.96       147\n",
      "           D       0.91      0.95      0.93       161\n",
      "           E       0.89      0.92      0.90       154\n",
      "           F       0.89      0.95      0.92       155\n",
      "           G       0.94      0.89      0.91       155\n",
      "           H       0.89      0.80      0.85       147\n",
      "           I       0.95      0.87      0.91       151\n",
      "           J       0.96      0.94      0.95       149\n",
      "           K       0.84      0.95      0.89       148\n",
      "           L       0.92      0.96      0.94       152\n",
      "           M       0.97      0.95      0.96       158\n",
      "           N       0.97      0.92      0.94       157\n",
      "           O       0.92      0.95      0.93       150\n",
      "           P       0.96      0.93      0.94       161\n",
      "           Q       0.97      0.96      0.96       157\n",
      "           R       0.85      0.87      0.86       151\n",
      "           S       0.89      0.97      0.93       150\n",
      "           T       0.97      0.92      0.95       159\n",
      "           U       0.92      0.99      0.96       163\n",
      "           V       0.98      0.93      0.96       153\n",
      "           W       0.93      0.99      0.95       150\n",
      "           X       0.93      0.87      0.90       157\n",
      "           Y       0.94      0.95      0.95       157\n",
      "           Z       0.98      0.97      0.98       147\n",
      "\n",
      "    accuracy                           0.93      4000\n",
      "   macro avg       0.93      0.93      0.93      4000\n",
      "weighted avg       0.93      0.93      0.93      4000\n",
      "\n"
     ]
    }
   ],
   "source": [
    "# Accuracy and classification report for tunned data \n",
    "print(\"Tuned Accuracy:\", accuracy_score(y_test, y_pred_tuned))\n",
    "print(\"\\nTuned Classification Report:\\n\", classification_report(y_test, y_pred_tuned, target_names=le.classes_))"
   ]
  },
  {
   "cell_type": "markdown",
   "id": "86752ffd-32d4-47f7-81a4-077292353cf8",
   "metadata": {},
   "source": [
    "# Report"
   ]
  },
  {
   "cell_type": "raw",
   "id": "703b4744-ce2e-49d9-b288-5fcff87a5a67",
   "metadata": {},
   "source": [
    "Dataset and Objective:\n",
    "To build an Artificial Neural Network (ANN) to classify handwritten alphabets using the \"Alphabets_data.csv\" dataset.\n",
    "\n",
    "Initial Model (Untuned ANN):\n",
    "A basic ANN model was developed with the following default hyperparameters:\n",
    "Hidden Layers: 1\n",
    "Neurons in Hidden Layer: 64\n",
    "Activation Function: ReLU\n",
    "Optimizer: Adam\n",
    "Learning Rate: 0.001\n",
    "\n",
    "Performance:\n",
    "Test Accuracy: 92.77%\n",
    "Average F1-Score: 0.93\n",
    "This initial model showed good performance in multi-class classification tasks.\n",
    "\n",
    "Hyperparameter Tuning:\n",
    "Hyperparameter tuning was performed using Keras Tuner with Random Search.\n",
    "\n",
    "Hyperparameters Tuned:\n",
    "Number of neurons in the input layer\n",
    "Number of hidden layers (1 to 3)\n",
    "Neurons per hidden layer (16 to 128)\n",
    "Activation functions (ReLU or Tanh)\n",
    "Learning rate (0.001, 0.0005, 0.0001)\n",
    "A total of 5 random search trials were conducted.\n",
    "\n",
    "Best Tuned Model Configuration (Trial 3):\n",
    "Input Layer: 96 neurons with ReLU activation\n",
    "Hidden Layers: 2 hidden layers\n",
    "Neurons per Hidden Layer: 64 neurons each\n",
    "Activation Function for Hidden Layers: Tanh\n",
    "Learning Rate: 0.001 (Adam optimizer)\n",
    "\n",
    "Tuned Model Performance:\n",
    "Test Accuracy: 92.95%\n",
    "Average F1-Score: 0.93 (Same as untuned model)\n",
    "\n",
    "Observations and Insights:\n",
    "Hyperparameter tuning resulted in a small improvement in accuracy (+0.18%).\n",
    "Precision, Recall, and F1-Score remained similar to the untuned model.\n",
    "The minimal improvement suggests that the default model was already performing near optimal for this dataset."
   ]
  }
 ],
 "metadata": {
  "kernelspec": {
   "display_name": "Python 3 (ipykernel)",
   "language": "python",
   "name": "python3"
  },
  "language_info": {
   "codemirror_mode": {
    "name": "ipython",
    "version": 3
   },
   "file_extension": ".py",
   "mimetype": "text/x-python",
   "name": "python",
   "nbconvert_exporter": "python",
   "pygments_lexer": "ipython3",
   "version": "3.12.3"
  }
 },
 "nbformat": 4,
 "nbformat_minor": 5
}
