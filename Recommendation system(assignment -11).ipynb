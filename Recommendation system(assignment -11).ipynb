{
 "cells": [
  {
   "cell_type": "code",
   "execution_count": 175,
   "id": "ba334691-c8c6-477c-aef2-62e69a8c85e2",
   "metadata": {},
   "outputs": [],
   "source": [
    "# impoting libraries import pandas as pd\n",
    "import numpy as np\n",
    "from sklearn.metrics.pairwise import cosine_similarity\n",
    "from sklearn.preprocessing import StandardScaler\n",
    "from sklearn.model_selection import train_test_split\n",
    "from sklearn.metrics import precision_score, recall_score, f1_score"
   ]
  },
  {
   "cell_type": "code",
   "execution_count": 176,
   "id": "2b704b68-cf09-4b1d-b127-4784e9ea3dfa",
   "metadata": {},
   "outputs": [],
   "source": [
    "#  Loading the data and understanding\n",
    "df = pd.read_csv(\"C:\\\\Users\\\\DELL\\\\Desktop\\\\Assignments\\\\Recommendation System\\\\anime.csv\")"
   ]
  },
  {
   "cell_type": "code",
   "execution_count": 177,
   "id": "b654a668-98a6-4fb3-b041-80a9039ec720",
   "metadata": {},
   "outputs": [
    {
     "data": {
      "text/html": [
       "<div>\n",
       "<style scoped>\n",
       "    .dataframe tbody tr th:only-of-type {\n",
       "        vertical-align: middle;\n",
       "    }\n",
       "\n",
       "    .dataframe tbody tr th {\n",
       "        vertical-align: top;\n",
       "    }\n",
       "\n",
       "    .dataframe thead th {\n",
       "        text-align: right;\n",
       "    }\n",
       "</style>\n",
       "<table border=\"1\" class=\"dataframe\">\n",
       "  <thead>\n",
       "    <tr style=\"text-align: right;\">\n",
       "      <th></th>\n",
       "      <th>anime_id</th>\n",
       "      <th>name</th>\n",
       "      <th>genre</th>\n",
       "      <th>type</th>\n",
       "      <th>episodes</th>\n",
       "      <th>rating</th>\n",
       "      <th>members</th>\n",
       "    </tr>\n",
       "  </thead>\n",
       "  <tbody>\n",
       "    <tr>\n",
       "      <th>0</th>\n",
       "      <td>32281</td>\n",
       "      <td>Kimi no Na wa.</td>\n",
       "      <td>Drama, Romance, School, Supernatural</td>\n",
       "      <td>Movie</td>\n",
       "      <td>1</td>\n",
       "      <td>9.37</td>\n",
       "      <td>200630</td>\n",
       "    </tr>\n",
       "    <tr>\n",
       "      <th>1</th>\n",
       "      <td>5114</td>\n",
       "      <td>Fullmetal Alchemist: Brotherhood</td>\n",
       "      <td>Action, Adventure, Drama, Fantasy, Magic, Mili...</td>\n",
       "      <td>TV</td>\n",
       "      <td>64</td>\n",
       "      <td>9.26</td>\n",
       "      <td>793665</td>\n",
       "    </tr>\n",
       "    <tr>\n",
       "      <th>2</th>\n",
       "      <td>28977</td>\n",
       "      <td>Gintama°</td>\n",
       "      <td>Action, Comedy, Historical, Parody, Samurai, S...</td>\n",
       "      <td>TV</td>\n",
       "      <td>51</td>\n",
       "      <td>9.25</td>\n",
       "      <td>114262</td>\n",
       "    </tr>\n",
       "    <tr>\n",
       "      <th>3</th>\n",
       "      <td>9253</td>\n",
       "      <td>Steins;Gate</td>\n",
       "      <td>Sci-Fi, Thriller</td>\n",
       "      <td>TV</td>\n",
       "      <td>24</td>\n",
       "      <td>9.17</td>\n",
       "      <td>673572</td>\n",
       "    </tr>\n",
       "    <tr>\n",
       "      <th>4</th>\n",
       "      <td>9969</td>\n",
       "      <td>Gintama&amp;#039;</td>\n",
       "      <td>Action, Comedy, Historical, Parody, Samurai, S...</td>\n",
       "      <td>TV</td>\n",
       "      <td>51</td>\n",
       "      <td>9.16</td>\n",
       "      <td>151266</td>\n",
       "    </tr>\n",
       "  </tbody>\n",
       "</table>\n",
       "</div>"
      ],
      "text/plain": [
       "   anime_id                              name  \\\n",
       "0     32281                    Kimi no Na wa.   \n",
       "1      5114  Fullmetal Alchemist: Brotherhood   \n",
       "2     28977                          Gintama°   \n",
       "3      9253                       Steins;Gate   \n",
       "4      9969                     Gintama&#039;   \n",
       "\n",
       "                                               genre   type episodes  rating  \\\n",
       "0               Drama, Romance, School, Supernatural  Movie        1    9.37   \n",
       "1  Action, Adventure, Drama, Fantasy, Magic, Mili...     TV       64    9.26   \n",
       "2  Action, Comedy, Historical, Parody, Samurai, S...     TV       51    9.25   \n",
       "3                                   Sci-Fi, Thriller     TV       24    9.17   \n",
       "4  Action, Comedy, Historical, Parody, Samurai, S...     TV       51    9.16   \n",
       "\n",
       "   members  \n",
       "0   200630  \n",
       "1   793665  \n",
       "2   114262  \n",
       "3   673572  \n",
       "4   151266  "
      ]
     },
     "execution_count": 177,
     "metadata": {},
     "output_type": "execute_result"
    }
   ],
   "source": [
    "df.head()"
   ]
  },
  {
   "cell_type": "code",
   "execution_count": 178,
   "id": "8866d33f-3a43-4dee-b37d-87f285d25665",
   "metadata": {},
   "outputs": [
    {
     "data": {
      "text/plain": [
       "(12294, 7)"
      ]
     },
     "execution_count": 178,
     "metadata": {},
     "output_type": "execute_result"
    }
   ],
   "source": [
    "df.shape"
   ]
  },
  {
   "cell_type": "code",
   "execution_count": 179,
   "id": "c3647fb5-b679-405c-86bc-41e0cf8c5b6b",
   "metadata": {},
   "outputs": [
    {
     "name": "stdout",
     "output_type": "stream",
     "text": [
      "<class 'pandas.core.frame.DataFrame'>\n",
      "RangeIndex: 12294 entries, 0 to 12293\n",
      "Data columns (total 7 columns):\n",
      " #   Column    Non-Null Count  Dtype  \n",
      "---  ------    --------------  -----  \n",
      " 0   anime_id  12294 non-null  int64  \n",
      " 1   name      12294 non-null  object \n",
      " 2   genre     12232 non-null  object \n",
      " 3   type      12269 non-null  object \n",
      " 4   episodes  12294 non-null  object \n",
      " 5   rating    12064 non-null  float64\n",
      " 6   members   12294 non-null  int64  \n",
      "dtypes: float64(1), int64(2), object(4)\n",
      "memory usage: 672.5+ KB\n"
     ]
    }
   ],
   "source": [
    "df.info()"
   ]
  },
  {
   "cell_type": "code",
   "execution_count": 180,
   "id": "94b76781-21b0-4f57-a20b-5d70be4aa4cc",
   "metadata": {},
   "outputs": [
    {
     "data": {
      "text/plain": [
       "anime_id      0\n",
       "name          0\n",
       "genre        62\n",
       "type         25\n",
       "episodes      0\n",
       "rating      230\n",
       "members       0\n",
       "dtype: int64"
      ]
     },
     "execution_count": 180,
     "metadata": {},
     "output_type": "execute_result"
    }
   ],
   "source": [
    "df.isnull().sum()"
   ]
  },
  {
   "cell_type": "code",
   "execution_count": 181,
   "id": "66b72d11-3576-4feb-90a8-d58e50d8da59",
   "metadata": {},
   "outputs": [],
   "source": [
    "# Handling missing values \n",
    "from sklearn.impute import KNNImputer"
   ]
  },
  {
   "cell_type": "code",
   "execution_count": 182,
   "id": "96b8eb3d-d901-4617-aaa3-95423b759905",
   "metadata": {},
   "outputs": [],
   "source": [
    "impute = KNNImputer()\n",
    "impute = KNNImputer(n_neighbors=5)"
   ]
  },
  {
   "cell_type": "code",
   "execution_count": 183,
   "id": "ba39db6b-1c30-426b-b222-0f87eed47ead",
   "metadata": {},
   "outputs": [],
   "source": [
    "df[['rating']] = impute.fit_transform(df[['rating']])"
   ]
  },
  {
   "cell_type": "code",
   "execution_count": 184,
   "id": "2331d30f-b2a3-40cc-88cf-1c23c2a2a933",
   "metadata": {},
   "outputs": [],
   "source": [
    "# Dropping null values from genre and type columns \n",
    "df = df.dropna(subset=['genre', 'type'])"
   ]
  },
  {
   "cell_type": "code",
   "execution_count": 185,
   "id": "0bbbd419-667e-4504-89b6-1dc81d0795eb",
   "metadata": {},
   "outputs": [
    {
     "name": "stdout",
     "output_type": "stream",
     "text": [
      "<class 'pandas.core.frame.DataFrame'>\n",
      "Index: 12210 entries, 0 to 12293\n",
      "Data columns (total 7 columns):\n",
      " #   Column    Non-Null Count  Dtype  \n",
      "---  ------    --------------  -----  \n",
      " 0   anime_id  12210 non-null  int64  \n",
      " 1   name      12210 non-null  object \n",
      " 2   genre     12210 non-null  object \n",
      " 3   type      12210 non-null  object \n",
      " 4   episodes  12210 non-null  object \n",
      " 5   rating    12210 non-null  float64\n",
      " 6   members   12210 non-null  int64  \n",
      "dtypes: float64(1), int64(2), object(4)\n",
      "memory usage: 763.1+ KB\n"
     ]
    }
   ],
   "source": [
    "df.info()"
   ]
  },
  {
   "cell_type": "code",
   "execution_count": 186,
   "id": "2ac674fa-501b-4364-ab9d-a94b608c8dac",
   "metadata": {},
   "outputs": [],
   "source": [
    "#  Train-test split\n",
    "train_df, test_df = train_test_split(df, test_size=0.2, random_state=42)"
   ]
  },
  {
   "cell_type": "code",
   "execution_count": 187,
   "id": "8128f4d3-9fe5-4a5b-a243-e7ebdb0e30eb",
   "metadata": {},
   "outputs": [],
   "source": [
    "# Create pivot table (anime name x type) from training data\n",
    "item_matrix = train_df.pivot_table(index='name', columns='type', values='rating')\n",
    "item_matrix = item_matrix.fillna(0)"
   ]
  },
  {
   "cell_type": "code",
   "execution_count": 188,
   "id": "3bb50eaf-6fca-4433-9469-6f10f1ee7922",
   "metadata": {},
   "outputs": [],
   "source": [
    "# Normalize & compute cosine similarity\n",
    "scaler = StandardScaler()\n",
    "item_matrix_scaled = scaler.fit_transform(item_matrix)\n",
    "\n",
    "item_sim_matrix = cosine_similarity(item_matrix_scaled)\n",
    "item_sim_df = pd.DataFrame(item_sim_matrix, index=item_matrix.index, columns=item_matrix.index)"
   ]
  },
  {
   "cell_type": "code",
   "execution_count": 189,
   "id": "23663fe0-6504-48df-a6e0-bfa35837ff9f",
   "metadata": {},
   "outputs": [],
   "source": [
    "# Recommendation Function\n",
    "def recommend_similar_anime(target_anime, top_n=5):\n",
    "    if target_anime not in item_sim_df.columns:\n",
    "        return []\n",
    "    \n",
    "    similar_scores = item_sim_df[target_anime].sort_values(ascending=False)\n",
    "    recommendations = similar_scores.drop(target_anime).head(top_n).index.tolist()\n",
    "    return recommendations"
   ]
  },
  {
   "cell_type": "code",
   "execution_count": 190,
   "id": "5765f477-c9ea-485c-8f71-bb3557e73e9b",
   "metadata": {},
   "outputs": [
    {
     "name": "stdout",
     "output_type": "stream",
     "text": [
      "Recommended animes similar to 'One Piece':\n",
      "\n",
      "['Kuroko no Basket 2nd Season', 'Uchuu Kyoudai', 'Kiseijuu: Sei no Kakuritsu', 'Kingdom 2nd Season', 'JoJo no Kimyou na Bouken: Diamond wa Kudakenai']\n"
     ]
    }
   ],
   "source": [
    "#  Example recommendation\n",
    "print(\"Recommended animes similar to 'One Piece':\\n\")\n",
    "print(recommend_similar_anime(\"One Piece\", top_n=5))"
   ]
  },
  {
   "cell_type": "code",
   "execution_count": 191,
   "id": "71c59f12-dda1-487d-8787-8c1c1ab6ba6d",
   "metadata": {},
   "outputs": [],
   "source": [
    "# Evaluation (genre-based relevance)F\n",
    "y_true = []\n",
    "y_pred = []\n",
    "\n",
    "for _, row in test_df.iterrows():\n",
    "    query_anime = row['name']\n",
    "    true_genres = set(row['genre'].split(', '))\n",
    "\n",
    "    recs = recommend_similar_anime(query_anime, top_n=5)\n",
    "    if not recs:\n",
    "        continue  # skip if the anime isn't in training data\n",
    "\n",
    "    match = 0\n",
    "    for rec_name in recs:\n",
    "        rec_row = train_df[train_df['name'] == rec_name]\n",
    "        if rec_row.empty:\n",
    "            continue\n",
    "        rec_genres = set(rec_row.iloc[0]['genre'].split(', '))\n",
    "        if true_genres & rec_genres:\n",
    "            match += 1\n",
    "\n",
    "    y_true.append(1)\n",
    "    y_pred.append(1 if match > 0 else 0)\n",
    "\n",
    "\n"
   ]
  },
  {
   "cell_type": "code",
   "execution_count": 192,
   "id": "fb4e1dc9-3d5f-477e-9e65-7307c6432e1c",
   "metadata": {},
   "outputs": [
    {
     "name": "stdout",
     "output_type": "stream",
     "text": [
      "\n",
      "📊 Evaluation Results:\n",
      "Precision: 0.00000\n",
      "Recall:    0.00000\n",
      "F1-Score:  0.00000\n"
     ]
    },
    {
     "name": "stderr",
     "output_type": "stream",
     "text": [
      "C:\\Users\\DELL\\anaconda3\\Lib\\site-packages\\sklearn\\metrics\\_classification.py:1509: UndefinedMetricWarning: Precision is ill-defined and being set to 0.0 due to no predicted samples. Use `zero_division` parameter to control this behavior.\n",
      "  _warn_prf(average, modifier, f\"{metric.capitalize()} is\", len(result))\n",
      "C:\\Users\\DELL\\anaconda3\\Lib\\site-packages\\sklearn\\metrics\\_classification.py:1509: UndefinedMetricWarning: Recall is ill-defined and being set to 0.0 due to no true samples. Use `zero_division` parameter to control this behavior.\n",
      "  _warn_prf(average, modifier, f\"{metric.capitalize()} is\", len(result))\n",
      "C:\\Users\\DELL\\anaconda3\\Lib\\site-packages\\sklearn\\metrics\\_classification.py:1509: UndefinedMetricWarning: F-score is ill-defined and being set to 0.0 due to no true nor predicted samples. Use `zero_division` parameter to control this behavior.\n",
      "  _warn_prf(average, modifier, f\"{metric.capitalize()} is\", len(result))\n"
     ]
    }
   ],
   "source": [
    "# Print Evaluation Metrics\n",
    "precision = precision_score(y_true, y_pred)\n",
    "recall = recall_score(y_true, y_pred)\n",
    "f1 = f1_score(y_true, y_pred)\n",
    "\n",
    "print(\"\\n📊 Evaluation Results:\")\n",
    "print(f\"Precision: {precision:.5f}\")\n",
    "print(f\"Recall:    {recall:.5f}\")\n",
    "print(f\"F1-Score:  {f1:.5f}\")"
   ]
  },
  {
   "cell_type": "markdown",
   "id": "94ba5990-f398-41d5-9caa-ada35a6a329c",
   "metadata": {},
   "source": [
    "# Interveiw Q&A"
   ]
  },
  {
   "cell_type": "raw",
   "id": "faa46bd4-be05-48ce-abe8-0a7940f91315",
   "metadata": {},
   "source": [
    "Q)  Can you explain the difference between user-based and item-based collaborative filtering?"
   ]
  },
  {
   "cell_type": "raw",
   "id": "f4430927-b3e1-4923-8553-74c828d72be0",
   "metadata": {},
   "source": [
    "A) User based collabrative filtering is finding similarities between user's preference by using cosine or pearson correlation meterics. \n",
    "Advantages:-\n",
    "Captures user-specific taste\n",
    "Easy to implement with sufficient user data\n",
    "\n",
    "Item based collabrative filtering is used to find user's who liked or brought that specific item earlier.\n",
    "Advantages:-\n",
    "More stable (items don’t change frequently like users)\n",
    "Better performance with sparse data\n",
    "Easier to scale"
   ]
  },
  {
   "cell_type": "raw",
   "id": "0d4514fb-a1d6-45aa-aa64-74275e24f245",
   "metadata": {},
   "source": [
    "Q) What is collaborative filtering, and how does it work?"
   ]
  },
  {
   "cell_type": "raw",
   "id": "1bec86c3-2441-46a5-b229-7268d2b7c6b3",
   "metadata": {},
   "source": [
    "A) It is a recommendation technique that suggests items to users based on the interactions and preferences of other users.\n",
    "If User A and User B have similar tastes, then the items liked by B can be recommended to A.\n",
    "Common Techniques Used:\n",
    "Similarity metrics\n",
    "Cosine similarity\n",
    "Pearson correlation\n",
    "Matrix factorization (advanced)\n",
    "SVD (Singular Value Decomposition)\n",
    "ALS (Alternating Least Squares)"
   ]
  },
  {
   "cell_type": "code",
   "execution_count": null,
   "id": "23d651be-4b5b-4485-a139-dcda63fceea8",
   "metadata": {},
   "outputs": [],
   "source": []
  }
 ],
 "metadata": {
  "kernelspec": {
   "display_name": "Python 3 (ipykernel)",
   "language": "python",
   "name": "python3"
  },
  "language_info": {
   "codemirror_mode": {
    "name": "ipython",
    "version": 3
   },
   "file_extension": ".py",
   "mimetype": "text/x-python",
   "name": "python",
   "nbconvert_exporter": "python",
   "pygments_lexer": "ipython3",
   "version": "3.12.3"
  }
 },
 "nbformat": 4,
 "nbformat_minor": 5
}
