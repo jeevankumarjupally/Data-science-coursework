{
 "cells": [
  {
   "cell_type": "code",
   "execution_count": 1,
   "id": "7252d0a1-ad67-4f1b-b750-515cf5cca39b",
   "metadata": {},
   "outputs": [],
   "source": [
    "import numpy as np\n",
    "from scipy import stats"
   ]
  },
  {
   "cell_type": "code",
   "execution_count": 2,
   "id": "213b980e-d7f9-42ad-915c-dc7b06ab7ea9",
   "metadata": {},
   "outputs": [],
   "source": [
    "# Data\n",
    "data = np.array([1.13, 1.55, 1.43, 0.92, 1.25, 1.36, 1.32, 0.85, 1.07, 1.48, 1.20, 1.33, 1.18, 1.22, 1.29])"
   ]
  },
  {
   "cell_type": "code",
   "execution_count": 3,
   "id": "8d375b64-7a26-48e5-a6dc-dac48ce37b1c",
   "metadata": {},
   "outputs": [],
   "source": [
    "# Sample Statistics\n",
    "n = len(data)\n",
    "sample_mean = np.mean(data)\n",
    "sample_std = np.std(data, ddof=1)  # ddof=1 for sample standard deviation\n",
    "df = n - 1  # Degrees of freedom"
   ]
  },
  {
   "cell_type": "code",
   "execution_count": 4,
   "id": "9308bd5d-3953-4540-a970-5ed4c2230f33",
   "metadata": {},
   "outputs": [],
   "source": [
    "# t-Critical Value for 99% Confidence\n",
    "alpha = 0.01\n",
    "t_critical = stats.t.ppf(1 - alpha/2, df)"
   ]
  },
  {
   "cell_type": "code",
   "execution_count": 5,
   "id": "5f17a42e-3c41-4496-99fb-352fa21fe74b",
   "metadata": {},
   "outputs": [],
   "source": [
    "# Margin of Error\n",
    "margin_of_error = t_critical * (sample_std / np.sqrt(n))"
   ]
  },
  {
   "cell_type": "code",
   "execution_count": 6,
   "id": "f7b6dc74-7b0a-4a31-9c43-ab9ce991e2e5",
   "metadata": {},
   "outputs": [],
   "source": [
    "# Confidence Interval\n",
    "lower_bound = sample_mean - margin_of_error\n",
    "upper_bound = sample_mean + margin_of_error"
   ]
  },
  {
   "cell_type": "code",
   "execution_count": 7,
   "id": "02b03a3e-94ea-4ebc-8c03-3cdb350053d4",
   "metadata": {},
   "outputs": [
    {
     "name": "stdout",
     "output_type": "stream",
     "text": [
      "99% Confidence Interval (Sample Std): [1.0902, 1.3871]\n"
     ]
    }
   ],
   "source": [
    "print(f\"99% Confidence Interval (Sample Std): [{lower_bound:.4f}, {upper_bound:.4f}]\")\n"
   ]
  },
  {
   "cell_type": "code",
   "execution_count": 8,
   "id": "acdc1bfb-74dc-4fd2-a447-02437bf5bc8a",
   "metadata": {},
   "outputs": [],
   "source": [
    "# Known Population Standard Deviation\n",
    "population_std = 0.2"
   ]
  },
  {
   "cell_type": "code",
   "execution_count": 9,
   "id": "d648ec4c-6bc8-46e1-ae49-93d694f267d4",
   "metadata": {},
   "outputs": [],
   "source": [
    "# z-Critical Value for 99% Confidence\n",
    "z_critical = stats.norm.ppf(1 - alpha/2)"
   ]
  },
  {
   "cell_type": "code",
   "execution_count": 10,
   "id": "737c8ac0-5f66-4d08-a0a5-96ec7dde5ba1",
   "metadata": {},
   "outputs": [],
   "source": [
    "# Margin of Error\n",
    "margin_of_error_known = z_critical * (population_std / np.sqrt(n))\n"
   ]
  },
  {
   "cell_type": "code",
   "execution_count": 11,
   "id": "7e5d3a4a-e548-4ee7-9f25-ba9110dfa453",
   "metadata": {},
   "outputs": [],
   "source": [
    "# Confidence Interval\n",
    "lower_bound_known = sample_mean - margin_of_error_known\n",
    "upper_bound_known = sample_mean + margin_of_error_known"
   ]
  },
  {
   "cell_type": "code",
   "execution_count": 12,
   "id": "8f5cfd00-c75c-452a-b9a1-9ff8012d949c",
   "metadata": {},
   "outputs": [
    {
     "name": "stdout",
     "output_type": "stream",
     "text": [
      "99% Confidence Interval (Pop Std): [1.1057, 1.3717]\n"
     ]
    }
   ],
   "source": [
    "print(f\"99% Confidence Interval (Pop Std): [{lower_bound_known:.4f}, {upper_bound_known:.4f}]\")"
   ]
  },
  {
   "cell_type": "code",
   "execution_count": null,
   "id": "f2db3545-dedf-4bd7-bc96-a3a1c12f32f1",
   "metadata": {},
   "outputs": [],
   "source": []
  }
 ],
 "metadata": {
  "kernelspec": {
   "display_name": "Python 3 (ipykernel)",
   "language": "python",
   "name": "python3"
  },
  "language_info": {
   "codemirror_mode": {
    "name": "ipython",
    "version": 3
   },
   "file_extension": ".py",
   "mimetype": "text/x-python",
   "name": "python",
   "nbconvert_exporter": "python",
   "pygments_lexer": "ipython3",
   "version": "3.10.16"
  }
 },
 "nbformat": 4,
 "nbformat_minor": 5
}
